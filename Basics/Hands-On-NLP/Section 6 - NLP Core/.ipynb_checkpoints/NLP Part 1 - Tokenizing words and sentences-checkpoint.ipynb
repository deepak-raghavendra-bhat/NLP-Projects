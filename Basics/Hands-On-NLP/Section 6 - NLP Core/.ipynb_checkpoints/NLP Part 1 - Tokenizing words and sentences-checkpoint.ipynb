{
 "cells": [
  {
   "cell_type": "markdown",
   "metadata": {},
   "source": [
    "Natural Language Processing using NLTK"
   ]
  },
  {
   "cell_type": "markdown",
   "metadata": {},
   "source": [
    "Install NLTK - pip install nltk"
   ]
  },
  {
   "cell_type": "markdown",
   "metadata": {},
   "source": [
    "Tokenization of paragraphs/sentences"
   ]
  },
  {
   "cell_type": "code",
   "execution_count": null,
   "metadata": {},
   "outputs": [
    {
     "name": "stdout",
     "output_type": "stream",
     "text": [
      "showing info https://raw.githubusercontent.com/nltk/nltk_data/gh-pages/index.xml\n"
     ]
    }
   ],
   "source": [
    "import nltk\n",
    "nltk.download()"
   ]
  },
  {
   "cell_type": "markdown",
   "metadata": {},
   "source": [
    "paragraph = \n",
    "Thank you all so very much. Thank you to the Academy. <br>\n",
    "               Thank you to all of you in this room. I have to congratulate <br>\n",
    "               the other incredible nominees this year. The Revenant was <br>\n",
    "               the product of the tireless efforts of an unbelievable cast<br>\n",
    "               and crew. First off, to my brother in this endeavor, Mr. Tom <br>\n",
    "               Hardy. Tom, your talent on screen can only be surpassed by <br>\n",
    "               your friendship off screen â€¦ thank you for creating a t<br>\n",
    "               ranscendent cinematic experience. Thank you to everybody at <br>\n",
    "               Fox and New Regency â€¦ my entire team. I have to thank <br>\n",
    "               everyone from the very onset of my career â€¦ To my parents; <br>\n",
    "               none of this would be possible without you. And to my <br>\n",
    "               friends, I love you dearly; you know who you are. And lastly,<br>\n",
    "               I just want to say this: Making The Revenant was about<br>\n",
    "               man's relationship to the natural world. A world that we<br>\n",
    "               collectively felt in 2015 as the hottest year in recorded<br>\n",
    "               history. Our production needed to move to the southern<br>\n",
    "               tip of this planet just to be able to find snow. Climate<br>\n",
    "               change is real, it is happening right now. It is the most<br>\n",
    "               urgent threat facing our entire species, and we need to work<br>\n",
    "               collectively together and stop procrastinating. We need to<br>\n",
    "               support leaders around the world who do not speak for the <br>\n",
    "               big polluters, but who speak for all of humanity, for the<br>\n",
    "               indigenous people of the world, for the billions and <br>\n",
    "               billions of underprivileged people out there who would be<br>\n",
    "               most affected by this. For our childrenâ€™s children, and <br>\n",
    "               for those people out there whose voices have been drowned<br>\n",
    "               out by the politics of greed. I thank you all for this <br>\n",
    "               amazing award tonight. Let us not take this planet for <br>\n",
    "             granted. I do not take tonight for granted. Thank you so very much.\n"
   ]
  },
  {
   "cell_type": "code",
   "execution_count": null,
   "metadata": {},
   "outputs": [],
   "source": [
    "               \n",
    "# Tokenizing sentences\n",
    "sentences = nltk.sent_tokenize(paragraph)"
   ]
  },
  {
   "cell_type": "markdown",
   "metadata": {},
   "source": [
    "Tokenizing words"
   ]
  },
  {
   "cell_type": "code",
   "execution_count": null,
   "metadata": {},
   "outputs": [],
   "source": [
    "words = nltk.word_tokenize(paragraph)\n",
    "               "
   ]
  },
  {
   "cell_type": "code",
   "execution_count": null,
   "metadata": {},
   "outputs": [],
   "source": []
  }
 ],
 "metadata": {
  "kernelspec": {
   "display_name": "Python 3 (ipykernel)",
   "language": "python",
   "name": "python3"
  },
  "language_info": {
   "codemirror_mode": {
    "name": "ipython",
    "version": 3
   },
   "file_extension": ".py",
   "mimetype": "text/x-python",
   "name": "python",
   "nbconvert_exporter": "python",
   "pygments_lexer": "ipython3",
   "version": "3.6.4"
  }
 },
 "nbformat": 4,
 "nbformat_minor": 2
}
